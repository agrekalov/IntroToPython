{
 "cells": [
  {
   "cell_type": "code",
   "execution_count": null,
   "id": "db9b2ddd-0921-418a-acd3-58edc44f995e",
   "metadata": {},
   "outputs": [],
   "source": [
    "45+72"
   ]
  },
  {
   "cell_type": "code",
   "execution_count": null,
   "id": "32826436-57f5-44e9-a2e7-f13a66e648fa",
   "metadata": {},
   "outputs": [],
   "source": [
    "5*(12.7-4)/2"
   ]
  }
 ],
 "metadata": {
  "kernelspec": {
   "display_name": "Python 3 (ipykernel)",
   "language": "python",
   "name": "python3"
  },
  "language_info": {
   "codemirror_mode": {
    "name": "ipython",
    "version": 3
   },
   "file_extension": ".py",
   "mimetype": "text/x-python",
   "name": "python",
   "nbconvert_exporter": "python",
   "pygments_lexer": "ipython3",
   "version": "3.9.13"
  }
 },
 "nbformat": 4,
 "nbformat_minor": 5
}
