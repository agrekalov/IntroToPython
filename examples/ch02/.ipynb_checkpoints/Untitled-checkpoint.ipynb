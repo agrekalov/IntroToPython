{
 "cells": [
  {
   "cell_type": "code",
   "execution_count": null,
   "id": "8fe9c9ef-3a73-4731-a2ed-bdd1287e34c9",
   "metadata": {},
   "outputs": [],
   "source": [
    "number1 = 0"
   ]
  },
  {
   "cell_type": "code",
   "execution_count": null,
   "id": "f5d5f408-8633-4045-b4cd-66fb678e97b7",
   "metadata": {},
   "outputs": [],
   "source": [
    "number2 = 1"
   ]
  },
  {
   "cell_type": "code",
   "execution_count": null,
   "id": "277f8c95-68ea-4818-9a05-055abc911251",
   "metadata": {},
   "outputs": [],
   "source": [
    "number3 = 2"
   ]
  },
  {
   "cell_type": "code",
   "execution_count": null,
   "id": "b883346f-1c89-46b1-bdb4-0bd961c62ef8",
   "metadata": {},
   "outputs": [],
   "source": [
    "number4 = 3"
   ]
  },
  {
   "cell_type": "code",
   "execution_count": null,
   "id": "5d679a31-513f-4e4b-a0e3-05fceeec7a55",
   "metadata": {},
   "outputs": [],
   "source": [
    "number5 = 4"
   ]
  },
  {
   "cell_type": "code",
   "execution_count": null,
   "id": "7dd77200-31b8-4a18-b61e-9a26541ce2cd",
   "metadata": {},
   "outputs": [],
   "source": [
    "number6 = 5"
   ]
  },
  {
   "cell_type": "code",
   "execution_count": null,
   "id": "e8ba5140-9704-4efa-9102-f0205b3735c1",
   "metadata": {},
   "outputs": [],
   "source": [
    "print ('Number1\\tNumber2\\tNumber3\\n',\n",
    "       number1,'\\t', number1**2,'\\t', number1**3,'\\n',\n",
    "      number2,'\\t', number2**2, '\\t', number2**3,'\\n',\n",
    "      number3,'\\t', number3**2, '\\t', number3**3,'\\n',\n",
    "      number4,'\\t', number4**2, '\\t', number4**3,'\\n',\n",
    "       number5,'\\t', number5**2, '\\t', number5**3,'\\n',\n",
    "       number6,'\\t', number6**2, '\\t', number6**3,'\\n',\n",
    "      )"
   ]
  }
 ],
 "metadata": {
  "kernelspec": {
   "display_name": "Python 3 (ipykernel)",
   "language": "python",
   "name": "python3"
  },
  "language_info": {
   "codemirror_mode": {
    "name": "ipython",
    "version": 3
   },
   "file_extension": ".py",
   "mimetype": "text/x-python",
   "name": "python",
   "nbconvert_exporter": "python",
   "pygments_lexer": "ipython3",
   "version": "3.9.13"
  }
 },
 "nbformat": 4,
 "nbformat_minor": 5
}
